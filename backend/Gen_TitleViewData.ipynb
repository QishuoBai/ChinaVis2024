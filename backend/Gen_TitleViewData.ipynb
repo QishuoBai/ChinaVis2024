{
 "cells": [
  {
   "cell_type": "markdown",
   "metadata": {},
   "source": [
    "#### 生成 Title View需要的数据\n",
    "暂定群体是all，直接使用titles_all.csv数据\n"
   ]
  },
  {
   "cell_type": "code",
   "execution_count": 40,
   "metadata": {},
   "outputs": [],
   "source": [
    "import pandas as pd\n",
    "import json\n",
    "from tqdm import tqdm\n",
    "import random\n",
    "import math\n",
    "import numpy as np\n",
    "\n",
    "titles_all_df = pd.read_csv('题目数据特征/titles_all.csv')\n",
    "titleInfo_df = pd.read_csv(\"../dataset/Data_TitleInfo.csv\")\n",
    "st_df = pd.read_csv(\"人题数据/stu_title.csv\")\n",
    "mergeData = pd.read_csv('../dataset/Data_MergedNew.csv')"
   ]
  },
  {
   "cell_type": "code",
   "execution_count": 45,
   "metadata": {},
   "outputs": [
    {
     "name": "stderr",
     "output_type": "stream",
     "text": [
      "100%|██████████| 8/8 [00:01<00:00,  7.53it/s]\n"
     ]
    }
   ],
   "source": [
    "\n",
    "subs = sorted(titleInfo_df['sub_knowledge'].unique())\n",
    "kls = sorted(titleInfo_df['knowledge'].unique())\n",
    "\n",
    "OutputArr = []\n",
    "for kl in tqdm(kls):\n",
    "    dataobj = {\"knowledge\":kl}\n",
    "    tmpsubs = []\n",
    "    for sub in subs:\n",
    "        if sub[:len(kl)] == kl:\n",
    "            tmpsubs.append(sub)\n",
    "    dataobj[\"sub_knowledges\"] = tmpsubs\n",
    "    \n",
    "    List =  titleInfo_df[titleInfo_df['knowledge']==kl]['title_ID'].unique().tolist()\n",
    "    dataobj[\"titleNum\"] = len(List)\n",
    "    \n",
    "    # 提交次数和得分表现\n",
    "    tmplist = []\n",
    "    for title in List:\n",
    "        titleObj = {}\n",
    "        titleObj[\"t_id\"] = title\n",
    "        \n",
    "        tdf = titles_all_df[titles_all_df['title_ID']==title]\n",
    "        titleObj[\"belong\"] = tdf[\"sub_knowledge\"].tolist()[0]\n",
    "        titleObj[\"t_mean_sbmnum\"] = tdf['t_mean_sbmnum'].tolist()[0]\n",
    "        titleObj[\"t_mean_score\"] = tdf['t_mean_score'].tolist()[0]\n",
    "        \n",
    "        # 题目的所有提交时间\n",
    "        titleObj[\"SubmitArr\"] = mergeData[mergeData['title_ID']==title]['time'].to_list()\n",
    "        titleObj[\"SubmitNum\"] = len(titleObj[\"SubmitArr\"])\n",
    "        titdf = st_df[st_df['title_ID']==title]\n",
    "        fulscore = titdf['score'].tolist()[0]\n",
    "        titleObj[\"t_sbmNum\"] = titdf.shape[0]\n",
    "        titleObj[\"t_Fullscore\"] = fulscore\n",
    "        sc = titdf['st_score'].value_counts().to_dict()\n",
    "        newobj = {}\n",
    "        for key, value in sc.items():\n",
    "            k = key * fulscore\n",
    "            newobj[k] = value/titdf.shape[0]\n",
    "        newobj = {k:newobj[k] for k in sorted(newobj)}\n",
    "        \n",
    "        obj ={\"a\":[], \"b\":[], \"c\":[]}\n",
    "        v = 0\n",
    "        for key, value in newobj.items():\n",
    "            obj['a'].append(key)\n",
    "            obj['b'].append(value)\n",
    "            obj['c'].append(v)\n",
    "            v = v+ value\n",
    "        # print(obj)\n",
    "        titleObj[\"t_score_distribute\"] = obj\n",
    "        \n",
    "        titledf = mergeData[mergeData['title_ID']==title]\n",
    "        titledf = titledf[titledf['state'].isin(['Partially_Correct','Absolutely_Correct'])]\n",
    "        \n",
    "        titleObj[\"t_memArr\"] = titledf['memory'].tolist()\n",
    "        titleObj[\"t_tcArr\"] = titledf['timeconsume'].tolist()\n",
    "        \n",
    "        tmplist.append(titleObj)\n",
    "    dataobj[\"titles\"] = tmplist\n",
    "    \n",
    "    OutputArr.append(dataobj)\n",
    "\n",
    "json_str = json.dumps(OutputArr, ensure_ascii=False)\n",
    "with open(\"TitleViewData.json\", \"w\", encoding=\"utf-8\") as file:\n",
    "    file.write(json_str)\n",
    "    "
   ]
  },
  {
   "cell_type": "markdown",
   "metadata": {},
   "source": [
    "找各个指标的最大最小值帮助前端比例尺映射"
   ]
  },
  {
   "cell_type": "code",
   "execution_count": 46,
   "metadata": {},
   "outputs": [
    {
     "name": "stdout",
     "output_type": "stream",
     "text": [
      "时间复杂度范围 1 400\n",
      "空间复杂度范围 128 65536\n",
      "平均分范围 13.601599165652702 49.81823577416723\n",
      "平均提交次数范围 2.4038004750593824 8.848640705363703\n",
      "提交时间 1693471583.0 1706158726.0\n",
      "有效提交中\n",
      "最小mem 160 最大mem 65536\n",
      "最小tc 2 最大tc 400\n"
     ]
    }
   ],
   "source": [
    "min_pfm_tc = titles_all_df['t_min_pfm_tc'].min()\n",
    "max_pfm_tc = titles_all_df['t_max_pfm_tc'].max()\n",
    "print('时间复杂度范围',min_pfm_tc, max_pfm_tc)\n",
    "\n",
    "min_pfm_mem = titles_all_df['t_min_pfm_mem'].min()\n",
    "max_pfm_mem = titles_all_df['t_max_pfm_mem'].max()\n",
    "print('空间复杂度范围',min_pfm_mem, max_pfm_mem)\n",
    "\n",
    "min_mean_score = titles_all_df['t_mean_score'].min()\n",
    "max_mean_score = titles_all_df['t_mean_score'].max()\n",
    "print('平均分范围',min_mean_score, max_mean_score)\n",
    "min_mean_sbmnum = titles_all_df['t_mean_sbmnum'].min()\n",
    "max_mean_sbmnum = titles_all_df['t_mean_sbmnum'].max()\n",
    "print('平均提交次数范围',min_mean_sbmnum, max_mean_sbmnum)\n",
    "\n",
    "print('提交时间',mergeData['time'].min(), mergeData['time'].max())\n",
    "valid_df = mergeData[mergeData['state'].isin(['Partially_Correct','Absolutely_Correct'])]\n",
    "print('有效提交中')\n",
    "print('最小mem',valid_df['memory'].min(),'最大mem', valid_df['memory'].max())\n",
    "print('最小tc',valid_df['timeconsume'].min(),'最大tc', valid_df['timeconsume'].max())\n",
    "# 真服了，就是又65536的mem，还是PC的提交"
   ]
  }
 ],
 "metadata": {
  "kernelspec": {
   "display_name": "Python 3",
   "language": "python",
   "name": "python3"
  },
  "language_info": {
   "codemirror_mode": {
    "name": "ipython",
    "version": 3
   },
   "file_extension": ".py",
   "mimetype": "text/x-python",
   "name": "python",
   "nbconvert_exporter": "python",
   "pygments_lexer": "ipython3",
   "version": "3.11.7"
  }
 },
 "nbformat": 4,
 "nbformat_minor": 2
}

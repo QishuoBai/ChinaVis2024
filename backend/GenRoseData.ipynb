{
 "cells": [
  {
   "cell_type": "markdown",
   "metadata": {},
   "source": [
    "生成学生的rose数据"
   ]
  },
  {
   "cell_type": "code",
   "execution_count": 1,
   "metadata": {},
   "outputs": [],
   "source": [
    "import pandas as pd\n",
    "import json\n",
    "from tqdm import tqdm\n",
    "import random\n",
    "import math\n",
    "import datetime\n",
    "\n",
    "title_df = pd.read_csv('../dataset/Data_TitleInfo.csv')\n",
    "student_df = pd.read_csv('../dataset/Data_StudentInfo.csv')\n",
    "mergeData = pd.read_csv('../dataset/Data_MergedNew.csv')\n",
    "\n",
    "def timestamp_to_datetime(timestamp):\n",
    "    dt = datetime.datetime.fromtimestamp(int(timestamp))\n",
    "    return dt.strftime(\"%Y-%m-%d %H:%M:%S\")\n",
    "\n",
    "def datetime_to_timestamp(date_time_str):\n",
    "    date_time_obj = datetime.datetime.strptime(date_time_str, '%Y/%m/%d %H:%M:%S')\n",
    "    timestamp = int(date_time_obj.timestamp())\n",
    "    return timestamp"
   ]
  },
  {
   "cell_type": "code",
   "execution_count": 14,
   "metadata": {},
   "outputs": [
    {
     "name": "stdout",
     "output_type": "stream",
     "text": [
      "2023-08-31 16:46:23\n",
      "2024-01-25 12:58:46\n"
     ]
    }
   ],
   "source": [
    "# 时间范围\n",
    "print(timestamp_to_datetime('1693471583'))\n",
    "print(timestamp_to_datetime('1706158726'))"
   ]
  },
  {
   "cell_type": "code",
   "execution_count": 23,
   "metadata": {},
   "outputs": [],
   "source": [
    "WeeksNum = 22\n",
    "weektable1 = [\n",
    "    \"2023/9/3 0:0:0\",\"2023/9/10 0:0:0\",\"2023/9/17 0:0:0\",\"2023/9/24 0:0:0\",\"2023/10/1 0:0:0\",\n",
    "    \"2023/10/8 0:0:0\",\"2023/10/15 0:0:0\",\"2023/10/22 0:0:0\",\"2023/10/29 0:0:0\",\"2023/11/5 0:0:0\",\n",
    "    \"2023/11/12 0:0:0\",\"2023/11/19 0:0:0\",\"2023/11/26 0:0:0\",\"2023/12/3 0:0:0\",\n",
    "    \"2023/12/10 0:0:0\",\"2023/12/17 0:0:0\",\"2023/12/24 0:0:0\",\"2023/12/31 0:0:0\",\n",
    "    \"2024/1/7 0:0:0\",\"2024/1/14 0:0:0\",\"2024/1/21 0:0:0\",\"2024/1/28 0:0:0\"\n",
    "]\n",
    "weektable2 = [1693670400, 1694275200, 1694880000, 1695484800, 1696089600, 1696694400, 1697299200, 1697904000, 1698508800, 1699113600, 1699718400, 1700323200, 1700928000, 1701532800, 1702137600, 1702742400, 1703347200, 1703952000, 1704556800, 1705161600, 1705766400, 1706371200]\n",
    "sktable = [\n",
    "        'b3C9s_j0v1yls8',\n",
    "        'b3C9s_l4z6od7y',\n",
    "        'g7R2j_e0v1yls8',\n",
    "        'g7R2j_j1g8gd3v',\n",
    "        'k4W1c_h5r6nux7',\n",
    "        'm3D1v_r1d7fr3l',\n",
    "        'm3D1v_t0v5ts9h',\n",
    "        'm3D1v_v3d9is1x',\n",
    "        'r8S3g_l0p5viby',\n",
    "        'r8S3g_n0m9rsw4',\n",
    "        's8Y2f_v4x8by9j',\n",
    "        't5V9e_e1k6cixp',\n",
    "        'y9W5d_c0w4mj5h',\n",
    "        'y9W5d_e2j7p95s',\n",
    "        'y9W5d_p8g6dgtv'\n",
    "    ]\n",
    "# for item in weektable1:\n",
    "#     weektable2.append(datetime_to_timestamp(item))\n",
    "# print(weektable2)"
   ]
  },
  {
   "cell_type": "code",
   "execution_count": 24,
   "metadata": {},
   "outputs": [
    {
     "data": {
      "text/plain": [
       "[0.02,\n",
       " 0.5,\n",
       " 0.78,\n",
       " 0.66,\n",
       " 0.13,\n",
       " 0.73,\n",
       " 0.82,\n",
       " 0.39,\n",
       " 0.9,\n",
       " 0.38,\n",
       " 0.8,\n",
       " 0.88,\n",
       " 0.69,\n",
       " 0.61,\n",
       " 0.03]"
      ]
     },
     "execution_count": 24,
     "metadata": {},
     "output_type": "execute_result"
    }
   ],
   "source": [
    "\n",
    "# 生成学生在第i周的数据（暂时15个随机数）\n",
    "def gen_a_rose(student_ID, week):\n",
    "    df = mergeData[mergeData['time'] <= weektable2[week]]\n",
    "    df = df[df['student_ID'] == student_ID]\n",
    "    rose = []\n",
    "    for sk in sktable:\n",
    "        tmpdf = df[df['sub_knowledge'] == sk]\n",
    "        # 根据该生在该知识点下的答题记录计算对该知识点的掌握度\n",
    "        rose.append(round(random.uniform(0, 1), 2))\n",
    "\n",
    "    return rose\n",
    "\n",
    "gen_a_rose('01a691413dc5897db83f', 18)"
   ]
  },
  {
   "cell_type": "code",
   "execution_count": 25,
   "metadata": {},
   "outputs": [
    {
     "name": "stderr",
     "output_type": "stream",
     "text": [
      "100%|██████████| 1364/1364 [12:29<00:00,  1.82it/s]\n"
     ]
    }
   ],
   "source": [
    "\n",
    "# 生成所有学生的roseArr\n",
    "ResArr = []\n",
    "for stuID in tqdm(mergeData['student_ID'].unique()):\n",
    "    stuObj = {\"student_ID\": stuID, \"roseArr\":[]}\n",
    "    for i in range(WeeksNum):\n",
    "        # 学生在第i周的rose\n",
    "        rose = gen_a_rose(stuID, i)\n",
    "        roseObj = {\"week\": i, \"rose\":rose}\n",
    "        stuObj['roseArr'].append(roseObj)\n",
    "    ResArr.append(stuObj)\n",
    "\n",
    "json_str = json.dumps(ResArr, ensure_ascii=False)\n",
    "with open(\"RoseData/tmpRosedata.json\", \"w\", encoding=\"utf-8\") as file:\n",
    "    file.write(json_str)\n",
    "\n",
    "\n"
   ]
  },
  {
   "cell_type": "markdown",
   "metadata": {},
   "source": [
    "### 接下来生成知识点列表"
   ]
  },
  {
   "cell_type": "code",
   "execution_count": 5,
   "metadata": {},
   "outputs": [
    {
     "name": "stdout",
     "output_type": "stream",
     "text": [
      "group: [['b3C9s_j0v1yls8', 'b3C9s_l4z6od7y'], ['g7R2j_e0v1yls8', 'g7R2j_j1g8gd3v'], ['k4W1c_h5r6nux7'], ['m3D1v_r1d7fr3l', 'm3D1v_t0v5ts9h', 'm3D1v_v3d9is1x'], ['r8S3g_l0p5viby', 'r8S3g_n0m9rsw4'], ['s8Y2f_v4x8by9j'], ['t5V9e_e1k6cixp'], ['y9W5d_c0w4mj5h', 'y9W5d_e2j7p95s', 'y9W5d_p8g6dgtv']]\n",
      "arrays: ['b3C9s_j0v1yls8', 'b3C9s_l4z6od7y', 'g7R2j_e0v1yls8', 'g7R2j_j1g8gd3v', 'k4W1c_h5r6nux7', 'm3D1v_r1d7fr3l', 'm3D1v_t0v5ts9h', 'm3D1v_v3d9is1x', 'r8S3g_l0p5viby', 'r8S3g_n0m9rsw4', 's8Y2f_v4x8by9j', 't5V9e_e1k6cixp', 'y9W5d_c0w4mj5h', 'y9W5d_e2j7p95s', 'y9W5d_p8g6dgtv']\n",
      "radian: [{'sa': 0.0, 'ea': 0.39269908169872414}, {'sa': 0.39269908169872414, 'ea': 0.7853981633974483}, {'sa': 0.7853981633974483, 'ea': 1.1780972450961724}, {'sa': 1.1780972450961724, 'ea': 1.5707963267948966}, {'sa': 1.5707963267948966, 'ea': 2.356194490192345}, {'sa': 2.356194490192345, 'ea': 2.6179938779914944}, {'sa': 2.6179938779914944, 'ea': 2.8797932657906435}, {'sa': 2.8797932657906435, 'ea': 3.141592653589793}, {'sa': 3.141592653589793, 'ea': 3.5342917352885173}, {'sa': 3.5342917352885173, 'ea': 3.9269908169872414}, {'sa': 3.9269908169872414, 'ea': 4.71238898038469}, {'sa': 4.71238898038469, 'ea': 5.497787143782138}, {'sa': 5.497787143782138, 'ea': 5.759586531581287}, {'sa': 5.759586531581287, 'ea': 6.021385919380437}, {'sa': 6.021385919380437, 'ea': 6.283185307179586}]\n"
     ]
    }
   ],
   "source": [
    "subs = sorted(title_df['sub_knowledge'].unique())\n",
    "kls = sorted(title_df['knowledge'].unique())\n",
    "\n",
    "# 子知识点组别顺序\n",
    "group = []\n",
    "for kl in kls:\n",
    "    arr = []\n",
    "    for sub in subs:\n",
    "        if sub[:len(kl)] == kl:\n",
    "            arr.append(sub)\n",
    "    group.append(arr)\n",
    "print('group:',group)\n",
    "\n",
    "print('arrays:',subs)\n",
    "\n",
    "# 计算各个花瓣的角度\n",
    "Radian = []\n",
    "for i in range(len(group)):\n",
    "    angle = 2*math.pi/len(group)\n",
    "    for j in range(len(group[i])):\n",
    "        obj = {\n",
    "            'sa': i*angle + j*(angle/len(group[i])), \n",
    "            'ea': i*angle + (j+1)*(angle/len(group[i]))\n",
    "        }\n",
    "        Radian.append(obj)\n",
    "print('radian:',Radian)\n",
    "\n"
   ]
  }
 ],
 "metadata": {
  "kernelspec": {
   "display_name": ".venv",
   "language": "python",
   "name": "python3"
  },
  "language_info": {
   "codemirror_mode": {
    "name": "ipython",
    "version": 3
   },
   "file_extension": ".py",
   "mimetype": "text/x-python",
   "name": "python",
   "nbconvert_exporter": "python",
   "pygments_lexer": "ipython3",
   "version": "3.12.0"
  }
 },
 "nbformat": 4,
 "nbformat_minor": 2
}

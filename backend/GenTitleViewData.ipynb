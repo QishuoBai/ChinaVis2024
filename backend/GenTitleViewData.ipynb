{
 "cells": [
  {
   "cell_type": "markdown",
   "metadata": {},
   "source": [
    "生成学生的rose数据"
   ]
  },
  {
   "cell_type": "code",
   "execution_count": 1,
   "metadata": {},
   "outputs": [],
   "source": [
    "import pandas as pd\n",
    "import json\n",
    "from tqdm import tqdm\n",
    "import random\n",
    "import math\n",
    "\n",
    "mergeData_url = '../dataset/Data_merged.csv'\n",
    "mergeData = pd.read_csv(mergeData_url)"
   ]
  },
  {
   "cell_type": "code",
   "execution_count": null,
   "metadata": {},
   "outputs": [],
   "source": []
  },
  {
   "cell_type": "code",
   "execution_count": 2,
   "metadata": {},
   "outputs": [
    {
     "name": "stderr",
     "output_type": "stream",
     "text": [
      "100%|██████████| 1364/1364 [00:00<00:00, 5239.49it/s]\n"
     ]
    }
   ],
   "source": [
    "# # TBD\n",
    "\n",
    "# WeeksNum = 22\n",
    "\n",
    "# # 生成学生在第i周的数据（暂时15个随机数）\n",
    "# def gen_a_rose(student_ID, week):\n",
    "#     rose = []\n",
    "#     for i in range(15):\n",
    "#         rose.append(round(random.uniform(0, 1), 2))\n",
    "#     return rose\n",
    "\n",
    "\n",
    "# # 生成所有学生的roseArr\n",
    "# group = []\n",
    "# for stuID in tqdm(mergeData['student_ID'].unique()):\n",
    "#     stuObj = {\"student_ID\": stuID, \"roseArr\":[]}\n",
    "#     for i in range(WeeksNum):\n",
    "#         rose = gen_a_rose(stuID, i)\n",
    "#         roseObj = {\"weekindex\": i, \"rose\":rose}\n",
    "#         stuObj['roseArr'].append(roseObj)\n",
    "#     group.append(stuObj)\n",
    "\n",
    "# json_str = json.dumps(group, ensure_ascii=False)\n",
    "# with open(\"RoseData/Rosedata.json\", \"w\", encoding=\"utf-8\") as file:\n",
    "#     file.write(json_str)\n",
    "\n",
    "\n"
   ]
  },
  {
   "cell_type": "code",
   "execution_count": null,
   "metadata": {},
   "outputs": [],
   "source": []
  }
 ],
 "metadata": {
  "kernelspec": {
   "display_name": ".venv",
   "language": "python",
   "name": "python3"
  },
  "language_info": {
   "codemirror_mode": {
    "name": "ipython",
    "version": 3
   },
   "file_extension": ".py",
   "mimetype": "text/x-python",
   "name": "python",
   "nbconvert_exporter": "python",
   "pygments_lexer": "ipython3",
   "version": "3.11.7"
  }
 },
 "nbformat": 4,
 "nbformat_minor": 2
}

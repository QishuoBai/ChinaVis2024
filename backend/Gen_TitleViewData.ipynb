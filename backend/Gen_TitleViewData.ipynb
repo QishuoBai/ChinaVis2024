{
 "cells": [
  {
   "cell_type": "markdown",
   "metadata": {},
   "source": [
    "#### 生成 Scatter View需要的数据\n",
    "暂定群体是all，直接使用titles_all.csv数据\n"
   ]
  },
  {
   "cell_type": "code",
   "execution_count": 7,
   "metadata": {},
   "outputs": [],
   "source": [
    "import pandas as pd\n",
    "import json\n",
    "from tqdm import tqdm\n",
    "import random\n",
    "import math\n",
    "\n",
    "titles_all_df = pd.read_csv('题目数据特征/titles_all.csv')\n",
    "titleInfo_df = pd.read_csv(\"../dataset/Data_TitleInfo.csv\")\n",
    "    "
   ]
  },
  {
   "cell_type": "code",
   "execution_count": 26,
   "metadata": {},
   "outputs": [],
   "source": [
    "subs = sorted(titleInfo_df['sub_knowledge'].unique())\n",
    "kls = sorted(titleInfo_df['knowledge'].unique())\n",
    "\n",
    "OutputArr = []\n",
    "for kl in kls:\n",
    "    dataobj = {\"knowledge\":kl}\n",
    "    tmpsubs = []\n",
    "    for sub in subs:\n",
    "        if sub[:len(kl)] == kl:\n",
    "            tmpsubs.append(sub)\n",
    "    dataobj[\"sub_knowledges\"]=tmpsubs\n",
    "    List =  titleInfo_df[titleInfo_df['knowledge']==kl]['title_ID'].unique().tolist()\n",
    "    dataobj[\"titleNum\"] = len(List)\n",
    "    # 提交次数和得分表现\n",
    "    tmplist = []\n",
    "    for title in List:\n",
    "        titleObj = {}\n",
    "        titleObj[\"t_id\"] = title\n",
    "        tdf = titles_all_df[titles_all_df['title_ID']==title]\n",
    "        titleObj[\"belong\"] = tdf[\"sub_knowledge\"].tolist()[0]\n",
    "        titleObj[\"t_mean_sbmnum\"] = tdf['t_mean_sbmnum'].tolist()[0]\n",
    "        titleObj[\"t_mean_score\"] = tdf['t_mean_score'].tolist()[0]\n",
    "        tmplist.append(titleObj)\n",
    "    dataobj[\"titles\"] = tmplist\n",
    "    \n",
    "    # 提交空间复杂度表现\n",
    "    tmplist = []\n",
    "    for title in List:\n",
    "        titleObj = {}\n",
    "        titleObj[\"t_id\"] = title\n",
    "        tdf = titles_all_df[titles_all_df['title_ID']==title]\n",
    "        titleObj[\"belong\"] = tdf[\"sub_knowledge\"].tolist()[0]\n",
    "        titleObj[\"t_mean_pfm_mem\"] = tdf['t_mean_pfm_mem'].tolist()[0]\n",
    "        titleObj[\"t_max_pfm_mem\"] = tdf['t_max_pfm_mem'].tolist()[0]\n",
    "        titleObj[\"t_min_pfm_mem\"] = tdf['t_min_pfm_mem'].tolist()[0]\n",
    "        tmplist.append(titleObj)\n",
    "    dataobj[\"pfm_mem\"] = tmplist\n",
    "    \n",
    "    # 提交时间复杂度表现\n",
    "    tmplist = []\n",
    "    for title in List:\n",
    "        titleObj = {}\n",
    "        titleObj[\"t_id\"] = title\n",
    "        tdf = titles_all_df[titles_all_df['title_ID']==title]\n",
    "        titleObj[\"belong\"] = tdf[\"sub_knowledge\"].tolist()[0]\n",
    "        titleObj[\"t_mean_pfm_tc\"] = tdf['t_mean_pfm_tc'].tolist()[0]\n",
    "        titleObj[\"t_max_pfm_tc\"] = tdf['t_max_pfm_tc'].tolist()[0]\n",
    "        titleObj[\"t_min_pfm_tc\"] = tdf['t_min_pfm_tc'].tolist()[0]\n",
    "        tmplist.append(titleObj)\n",
    "    dataobj[\"pfm_tc\"] = tmplist\n",
    "    \n",
    "    OutputArr.append(dataobj)\n",
    "    "
   ]
  },
  {
   "cell_type": "code",
   "execution_count": 27,
   "metadata": {},
   "outputs": [],
   "source": [
    "json_str = json.dumps(OutputArr, ensure_ascii=False)\n",
    "with open(\"TitleViewData.json\", \"w\", encoding=\"utf-8\") as file:\n",
    "    file.write(json_str)"
   ]
  },
  {
   "cell_type": "markdown",
   "metadata": {},
   "source": [
    "找各个指标的最大最小值帮助前端比例尺映射"
   ]
  },
  {
   "cell_type": "code",
   "execution_count": 33,
   "metadata": {},
   "outputs": [
    {
     "name": "stdout",
     "output_type": "stream",
     "text": [
      "时间复杂度范围 1 400\n",
      "空间复杂度范围 128 65536\n",
      "平均分范围 13.601599165652702 49.81823577416723\n",
      "平均提交次数范围 2.4038004750593824 8.848640705363703\n"
     ]
    }
   ],
   "source": [
    "min_pfm_tc = titles_all_df['t_min_pfm_tc'].min()\n",
    "max_pfm_tc = titles_all_df['t_max_pfm_tc'].max()\n",
    "print('时间复杂度范围',min_pfm_tc, max_pfm_tc)\n",
    "\n",
    "min_pfm_mem = titles_all_df['t_min_pfm_mem'].min()\n",
    "max_pfm_mem = titles_all_df['t_max_pfm_mem'].max()\n",
    "print('空间复杂度范围',min_pfm_mem, max_pfm_mem)\n",
    "\n",
    "min_mean_score = titles_all_df['t_mean_score'].min()\n",
    "max_mean_score = titles_all_df['t_mean_score'].max()\n",
    "print('平均分范围',min_mean_score, max_mean_score)\n",
    "min_mean_sbmnum = titles_all_df['t_mean_sbmnum'].min()\n",
    "max_mean_sbmnum = titles_all_df['t_mean_sbmnum'].max()\n",
    "print('平均提交次数范围',min_mean_sbmnum, max_mean_sbmnum)"
   ]
  }
 ],
 "metadata": {
  "kernelspec": {
   "display_name": "Python 3",
   "language": "python",
   "name": "python3"
  },
  "language_info": {
   "codemirror_mode": {
    "name": "ipython",
    "version": 3
   },
   "file_extension": ".py",
   "mimetype": "text/x-python",
   "name": "python",
   "nbconvert_exporter": "python",
   "pygments_lexer": "ipython3",
   "version": "3.11.7"
  }
 },
 "nbformat": 4,
 "nbformat_minor": 2
}

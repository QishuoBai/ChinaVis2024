{
 "cells": [
  {
   "cell_type": "markdown",
   "metadata": {},
   "source": [
    "生成学生的rose数据"
   ]
  },
  {
   "cell_type": "code",
   "execution_count": 2,
   "metadata": {},
   "outputs": [],
   "source": [
    "import pandas as pd\n",
    "import json\n",
    "from tqdm import tqdm\n",
    "import random\n",
    "import math\n",
    "\n",
    "title_url = '../dataset/Data_TitleInfo.csv'\n",
    "student_url = '../dataset/Data_StudentInfo.csv'\n",
    "mergeData_url = '../dataset/Data_merged.csv'\n",
    "title_df = pd.read_csv(title_url)\n",
    "student_df = pd.read_csv(student_url)\n",
    "mergeData = pd.read_csv(mergeData_url)"
   ]
  },
  {
   "cell_type": "code",
   "execution_count": 5,
   "metadata": {},
   "outputs": [
    {
     "name": "stdout",
     "output_type": "stream",
     "text": [
      "group: [['b3C9s_j0v1yls8', 'b3C9s_l4z6od7y'], ['g7R2j_e0v1yls8', 'g7R2j_j1g8gd3v'], ['k4W1c_h5r6nux7'], ['m3D1v_r1d7fr3l', 'm3D1v_t0v5ts9h', 'm3D1v_v3d9is1x'], ['r8S3g_l0p5viby', 'r8S3g_n0m9rsw4'], ['s8Y2f_v4x8by9j'], ['t5V9e_e1k6cixp'], ['y9W5d_c0w4mj5h', 'y9W5d_e2j7p95s', 'y9W5d_p8g6dgtv']]\n",
      "arrays: ['b3C9s_j0v1yls8', 'b3C9s_l4z6od7y', 'g7R2j_e0v1yls8', 'g7R2j_j1g8gd3v', 'k4W1c_h5r6nux7', 'm3D1v_r1d7fr3l', 'm3D1v_t0v5ts9h', 'm3D1v_v3d9is1x', 'r8S3g_l0p5viby', 'r8S3g_n0m9rsw4', 's8Y2f_v4x8by9j', 't5V9e_e1k6cixp', 'y9W5d_c0w4mj5h', 'y9W5d_e2j7p95s', 'y9W5d_p8g6dgtv']\n",
      "radian: [{'sa': 0.0, 'ea': 0.39269908169872414}, {'sa': 0.39269908169872414, 'ea': 0.7853981633974483}, {'sa': 0.7853981633974483, 'ea': 1.1780972450961724}, {'sa': 1.1780972450961724, 'ea': 1.5707963267948966}, {'sa': 1.5707963267948966, 'ea': 2.356194490192345}, {'sa': 2.356194490192345, 'ea': 2.6179938779914944}, {'sa': 2.6179938779914944, 'ea': 2.8797932657906435}, {'sa': 2.8797932657906435, 'ea': 3.141592653589793}, {'sa': 3.141592653589793, 'ea': 3.5342917352885173}, {'sa': 3.5342917352885173, 'ea': 3.9269908169872414}, {'sa': 3.9269908169872414, 'ea': 4.71238898038469}, {'sa': 4.71238898038469, 'ea': 5.497787143782138}, {'sa': 5.497787143782138, 'ea': 5.759586531581287}, {'sa': 5.759586531581287, 'ea': 6.021385919380437}, {'sa': 6.021385919380437, 'ea': 6.283185307179586}]\n"
     ]
    }
   ],
   "source": [
    "subs = sorted(title_df['sub_knowledge'].unique())\n",
    "kls = sorted(title_df['knowledge'].unique())\n",
    "\n",
    "# 子知识点组别顺序\n",
    "group = []\n",
    "for kl in kls:\n",
    "    arr = []\n",
    "    for sub in subs:\n",
    "        if sub[:len(kl)] == kl:\n",
    "            arr.append(sub)\n",
    "    group.append(arr)\n",
    "print('group:',group)\n",
    "\n",
    "print('arrays:',subs)\n",
    "\n",
    "# 计算各个花瓣的角度\n",
    "Radian = []\n",
    "for i in range(len(group)):\n",
    "    angle = 2*math.pi/len(group)\n",
    "    for j in range(len(group[i])):\n",
    "        obj = {\n",
    "            'sa': i*angle + j*(angle/len(group[i])), \n",
    "            'ea': i*angle + (j+1)*(angle/len(group[i]))\n",
    "        }\n",
    "        Radian.append(obj)\n",
    "print('radian:',Radian)\n",
    "\n"
   ]
  },
  {
   "cell_type": "code",
   "execution_count": 6,
   "metadata": {},
   "outputs": [
    {
     "name": "stderr",
     "output_type": "stream",
     "text": [
      "100%|██████████| 1364/1364 [00:00<00:00, 1443.72it/s]\n"
     ]
    }
   ],
   "source": [
    "# TBD\n",
    "\n",
    "WeeksNum = 20\n",
    "\n",
    "# 生成学生在第i周的数据（暂时随机数）\n",
    "def gen_a_rose(student_ID, week):\n",
    "    rose = []\n",
    "    for i in range(15):\n",
    "        rose.append(round(random.uniform(0, 1), 2))\n",
    "    return rose\n",
    "\n",
    "\n",
    "# 生成所有学生的roseArr\n",
    "group = []\n",
    "for stuID in tqdm(mergeData['student_ID'].unique()):\n",
    "    stuObj = {\"student_ID\": stuID, \"roseArr\":[]}\n",
    "    for i in range(WeeksNum):\n",
    "        rose = gen_a_rose(stuID, i)\n",
    "        roseObj = {\"weekindex\": i, \"rose\":rose}\n",
    "        stuObj['roseArr'].append(roseObj)\n",
    "    group.append(stuObj)\n",
    "\n",
    "json_str = json.dumps(group, ensure_ascii=False)\n",
    "with open(\"RoseData/Rosedata2.json\", \"w\", encoding=\"utf-8\") as file:\n",
    "    file.write(json_str)\n",
    "\n",
    "\n"
   ]
  },
  {
   "cell_type": "code",
   "execution_count": null,
   "metadata": {},
   "outputs": [],
   "source": []
  }
 ],
 "metadata": {
  "kernelspec": {
   "display_name": ".venv",
   "language": "python",
   "name": "python3"
  },
  "language_info": {
   "codemirror_mode": {
    "name": "ipython",
    "version": 3
   },
   "file_extension": ".py",
   "mimetype": "text/x-python",
   "name": "python",
   "nbconvert_exporter": "python",
   "pygments_lexer": "ipython3",
   "version": "3.12.3"
  }
 },
 "nbformat": 4,
 "nbformat_minor": 2
}
